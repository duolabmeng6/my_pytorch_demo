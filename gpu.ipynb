{
 "cells": [
  {
   "cell_type": "code",
   "execution_count": 1,
   "metadata": {
    "pycharm": {
     "is_executing": false
    }
   },
   "outputs": [
    {
     "name": "stdout",
     "text": [
      "Files already downloaded and verified\n",
      "Files already downloaded and verified\n"
     ],
     "output_type": "stream"
    }
   ],
   "source": [
    "import torch\n",
    "import torchvision\n",
    "import torchvision.transforms as transforms\n",
    "\n",
    "transform = transforms.Compose(\n",
    "    [\n",
    "        transforms.ToTensor(),\n",
    "        # rgb 平均值 方差\n",
    "        transforms.Normalize((0.5, 0.5, 0.5), (0.5, 0.5, 0.5)),\n",
    "\n",
    "    ]\n",
    ")\n",
    "\n",
    "# 训练数据集\n",
    "trainset = torchvision.datasets.CIFAR10(root=\"./data\",\n",
    "                                        train=True,\n",
    "                                        download=True,\n",
    "                                        transform=transform,\n",
    "                                        )\n",
    "trainloader = torch.utils.data.DataLoader(trainset, batch_size=64, shuffle=True, num_workers=2)\n",
    "\n",
    "# 训练数据集\n",
    "testset = torchvision.datasets.CIFAR10(root=\"./data\",\n",
    "                                       train=False,\n",
    "                                       download=True,\n",
    "                                       transform=transform,\n",
    "                                       )\n",
    "testloader = torch.utils.data.DataLoader(testset, batch_size=4, shuffle=False, num_workers=2)\n"
   ]
  },
  {
   "cell_type": "code",
   "execution_count": 2,
   "outputs": [],
   "source": [
    "import matplotlib.pyplot as plt\n",
    "import numpy as np\n",
    "\n",
    "def imshow(img):\n",
    "    # 输入数据\n",
    "    img = img / 2 + 0.5\n",
    "    nping = img.numpy()\n",
    "    nping = np.transpose(nping, (1, 2, 0))  # [h,w,c]\n",
    "    plt.imshow(nping)\n",
    "\n",
    "dataiter = iter(trainloader)\n",
    "images, labels = dataiter.next()\n",
    "\n",
    "imshow(torchvision.utils.make_grid(images))"
   ],
   "metadata": {
    "collapsed": false,
    "pycharm": {
     "name": "#%%\n",
     "is_executing": false
    }
   }
  },
  {
   "cell_type": "code",
   "execution_count": 3,
   "outputs": [],
   "source": [
    "import torch\n",
    "import torch.nn as nn\n",
    "import torch.nn.functional as F\n",
    "class Net(nn.Module):\n",
    "    def __init__(self):  # 定义神经网络结构,输入数据 3x32x32\n",
    "        super(Net, self).__init__()\n",
    "        # 第一层 卷积层\n",
    "        self.conv1 = nn.Conv2d(3, 6, 3)  # 输入频道3 输出频道6 卷积 3x3\n",
    "        # 第二层 卷积层\n",
    "        self.conv2 = nn.Conv2d(6, 16, 3)  # 输入频道6 输出频道16 卷积 3x3\n",
    "        # 第三层 全连接层\n",
    "        # 32经过2次卷积 每次卷积以后减2 32 -2 -2 =28\n",
    "        self.fc1 = nn.Linear(16 * 28 * 28, 512)  # 输入维度 16x28x28=12544 输出维度 512\n",
    "        # 第四层 全连接层\n",
    "        self.fc2 = nn.Linear(512, 64)  # 输入维度512 输出维度64\n",
    "        # 第五层 全连接层\n",
    "        self.fc3 = nn.Linear(64, 10)  # 输入维度64 输出维度10\n",
    "\n",
    "    def forward(self, x):\n",
    "        x = self.conv1(x)\n",
    "        x = F.relu(x)\n",
    "\n",
    "        x = self.conv2(x)\n",
    "        x = F.relu(x)\n",
    "\n",
    "        x = x.view(-1, 16 * 28 * 28)\n",
    "        x = self.fc1(x)\n",
    "        x = F.relu(x)\n",
    "\n",
    "        x = self.fc2(x)\n",
    "        x = F.relu(x)\n",
    "\n",
    "        x = self.fc3(x)\n",
    "\n",
    "        return x\n",
    "\n",
    "\n"
   ],
   "metadata": {
    "collapsed": false,
    "pycharm": {
     "name": "#%%\n",
     "is_executing": false
    }
   }
  },
  {
   "cell_type": "code",
   "execution_count": 3,
   "outputs": [],
   "source": [
    "\n"
   ],
   "metadata": {
    "collapsed": false,
    "pycharm": {
     "name": "#%%\n",
     "is_executing": false
    }
   }
  },
  {
   "cell_type": "code",
   "execution_count": 4,
   "outputs": [
    {
     "name": "stdout",
     "text": [
      "Net(\n",
      "  (conv1): Conv2d(3, 6, kernel_size=(3, 3), stride=(1, 1))\n",
      "  (conv2): Conv2d(6, 16, kernel_size=(3, 3), stride=(1, 1))\n",
      "  (fc1): Linear(in_features=12544, out_features=512, bias=True)\n",
      "  (fc2): Linear(in_features=512, out_features=64, bias=True)\n",
      "  (fc3): Linear(in_features=64, out_features=10, bias=True)\n",
      ")\n"
     ],
     "output_type": "stream"
    },
    {
     "data": {
      "text/plain": "<All keys matched successfully>"
     },
     "metadata": {},
     "output_type": "execute_result",
     "execution_count": 4
    }
   ],
   "source": [
    "import torch.optim as optim\n",
    "\n",
    "device = torch.device(\"cuda\" if torch.cuda.is_available() else \"cpu\")\n",
    "net = Net().to(device)\n",
    "print(net)\n",
    "criterion = nn.CrossEntropyLoss()\n",
    "optimizer = optim.SGD(net.parameters(),lr=0.01,momentum=0.9)\n",
    "\n",
    "net.load_state_dict(torch.load(\"./model.pt\"))\n"
   ],
   "metadata": {
    "collapsed": false,
    "pycharm": {
     "name": "#%%\n",
     "is_executing": false
    }
   }
  },
  {
   "cell_type": "code",
   "execution_count": 5,
   "outputs": [
    {
     "name": "stdout",
     "text": [
      "Epoch: 0, Step: 0, Loss: 1.199\n",
      "Epoch: 0, Step: 250, Loss: 1.339\n",
      "Epoch: 0, Step: 500, Loss: 1.273\n",
      "Epoch: 0, Step: 750, Loss: 1.213\n",
      "Epoch: 1, Step: 0, Loss: 1.025\n",
      "Epoch: 1, Step: 250, Loss: 0.752\n",
      "Epoch: 1, Step: 500, Loss: 1.210\n",
      "Epoch: 1, Step: 750, Loss: 1.016\n",
      "Epoch: 2, Step: 0, Loss: 0.950\n",
      "Epoch: 2, Step: 250, Loss: 0.861\n",
      "Epoch: 2, Step: 500, Loss: 0.744\n",
      "Epoch: 2, Step: 750, Loss: 0.822\n",
      "Epoch: 3, Step: 0, Loss: 0.749\n",
      "Epoch: 3, Step: 250, Loss: 0.351\n",
      "Epoch: 3, Step: 500, Loss: 0.775\n",
      "Epoch: 3, Step: 750, Loss: 0.656\n",
      "Epoch: 4, Step: 0, Loss: 0.278\n",
      "Epoch: 4, Step: 250, Loss: 0.377\n",
      "Epoch: 4, Step: 500, Loss: 0.532\n",
      "Epoch: 4, Step: 750, Loss: 0.433\n",
      "Epoch: 5, Step: 0, Loss: 0.189\n",
      "Epoch: 5, Step: 250, Loss: 0.055\n",
      "Epoch: 5, Step: 500, Loss: 0.128\n",
      "Epoch: 5, Step: 750, Loss: 0.321\n",
      "Epoch: 6, Step: 0, Loss: 0.132\n",
      "Epoch: 6, Step: 250, Loss: 0.068\n",
      "Epoch: 6, Step: 500, Loss: 0.206\n",
      "Epoch: 6, Step: 750, Loss: 0.246\n",
      "Epoch: 7, Step: 0, Loss: 0.172\n",
      "Epoch: 7, Step: 250, Loss: 0.142\n",
      "Epoch: 7, Step: 500, Loss: 0.262\n",
      "Epoch: 7, Step: 750, Loss: 0.319\n",
      "Epoch: 8, Step: 0, Loss: 0.081\n",
      "Epoch: 8, Step: 250, Loss: 0.065\n",
      "Epoch: 8, Step: 500, Loss: 0.063\n",
      "Epoch: 8, Step: 750, Loss: 0.230\n",
      "Epoch: 9, Step: 0, Loss: 0.068\n",
      "Epoch: 9, Step: 250, Loss: 0.053\n",
      "Epoch: 9, Step: 500, Loss: 0.049\n",
      "Epoch: 9, Step: 750, Loss: 0.070\n"
     ],
     "output_type": "stream"
    }
   ],
   "source": [
    "train_loss_hist = []\n",
    "test_loss_hist = []\n",
    "for epoch in range(5):\n",
    "    #训练\n",
    "    net.train()\n",
    "    running_loss = 0.0\n",
    "    \n",
    "    for i , data in enumerate(trainloader):\n",
    "        images , labels = data\n",
    "        images, labels = images.to(device), labels.to(device)\n",
    "        optimizer.zero_grad()\n",
    "        \n",
    "        outputs = net(images)\n",
    "\n",
    "        loss = criterion(outputs,labels) # 计算损失\n",
    "        \n",
    "        loss.backward()\n",
    "        optimizer.step()\n",
    "        \n",
    "        running_loss += loss.item()\n",
    "        if( i%250 == 0 ):\n",
    "            correct = 0.0\n",
    "            total = 0.0\n",
    "            net.eval()\n",
    "            with torch.no_grad():\n",
    "                for test_data in testloader:\n",
    "                    test_images,test_labels = test_data\n",
    "                    test_images, test_labels = test_images.to(device), test_labels.to(device)\n",
    "                    test_outputs = net(test_images)\n",
    "                    test_loss = criterion(test_outputs,test_labels)\n",
    "            \n",
    "            train_loss_hist.append(running_loss/250)\n",
    "            test_loss_hist.append(test_loss.item())\n",
    "            running_loss = 0.0\n",
    "            print('Epoch: %d, Step: %d, Loss: %.3f' % (epoch,i,loss.item()) )"
   ],
   "metadata": {
    "collapsed": false,
    "pycharm": {
     "name": "#%%\n",
     "is_executing": false
    }
   }
  },
  {
   "cell_type": "code",
   "execution_count": 13,
   "outputs": [
    {
     "data": {
      "text/plain": "Text(0, 0.5, 'Loss')"
     },
     "metadata": {},
     "output_type": "execute_result",
     "execution_count": 13
    },
    {
     "data": {
      "text/plain": "<Figure size 432x288 with 1 Axes>",
      "image/png": "[encoded data removed]"
     },
     "metadata": {
      "needs_background": "light"
     },
     "output_type": "display_data"
    }
   ],
   "source": [
    "plt.figure()\n",
    "plt.plot(train_loss_hist)\n",
    "plt.plot(test_loss_hist)\n",
    "plt.legend((\"train loss\",\"test loss\"))\n",
    "plt.title(\"Train/Test Loss\")\n",
    "plt.xlabel(\"# mini batch *250\")\n",
    "plt.ylabel(\"Loss\")\n"
   ],
   "metadata": {
    "collapsed": false,
    "pycharm": {
     "name": "#%%\n",
     "is_executing": false
    }
   }
  },
  {
   "cell_type": "code",
   "execution_count": 14,
   "outputs": [
    {
     "name": "stdout",
     "text": [
      "精确率: 0.6150999665260315\n"
     ],
     "output_type": "stream"
    }
   ],
   "source": [
    "# 测试模型\n",
    "correct = 0.0\n",
    "total = 0.0\n",
    "with torch.no_grad():\n",
    "    for data in  testloader:\n",
    "        images , labels = data\n",
    "        images, labels = images.to(device), labels.to(device)\n",
    "\n",
    "        outputs = net(images)\n",
    "        \n",
    "        _,predicted = torch.max(outputs.data,1)\n",
    "        correct  += (predicted==labels).sum()\n",
    "        total += labels.size(0)\n",
    "\n",
    "print(\"精确率:\",float(correct / total))"
   ],
   "metadata": {
    "collapsed": false,
    "pycharm": {
     "name": "#%%\n",
     "is_executing": false
    }
   }
  },
  {
   "cell_type": "code",
   "execution_count": 15,
   "outputs": [],
   "source": [
    "# 保存模型\n",
    "torch.save(net.state_dict(),\"./model.pt\")\n",
    "\n"
   ],
   "metadata": {
    "collapsed": false,
    "pycharm": {
     "name": "#%%\n",
     "is_executing": false
    }
   }
  },
  {
   "cell_type": "code",
   "execution_count": 16,
   "outputs": [
    {
     "name": "stdout",
     "text": [
      "精确率: 0.6150999665260315\n"
     ],
     "output_type": "stream"
    }
   ],
   "source": [
    "# 读取模型\n",
    "net_2 = Net()\n",
    "net_2.load_state_dict(torch.load(\"./model.pt\"))\n",
    "correct = 0.0\n",
    "total = 0.0\n",
    "with torch.no_grad():\n",
    "    for data in  testloader:\n",
    "        images , labels = data\n",
    "        images, labels = images.to(device), labels.to(device)\n",
    "\n",
    "        outputs = net(images)\n",
    "        \n",
    "        _,predicted = torch.max(outputs.data,1)\n",
    "        correct  += (predicted==labels).sum()\n",
    "        total += labels.size(0)\n",
    "\n",
    "print(\"精确率:\",float(correct / total))\n"
   ],
   "metadata": {
    "collapsed": false,
    "pycharm": {
     "name": "#%%\n",
     "is_executing": false
    }
   }
  },
  {
   "cell_type": "code",
   "execution_count": null,
   "outputs": [],
   "source": [
    "\n"
   ],
   "metadata": {
    "collapsed": false,
    "pycharm": {
     "name": "#%%\n",
     "is_executing": true
    }
   }
  }
 ],
 "metadata": {
  "kernelspec": {
   "display_name": "Python 3",
   "language": "python",
   "name": "python3"
  },
  "language_info": {
   "codemirror_mode": {
    "name": "ipython",
    "version": 3
   },
   "file_extension": ".py",
   "mimetype": "text/x-python",
   "name": "python",
   "nbconvert_exporter": "python",
   "pygments_lexer": "ipython3",
   "version": "3.7.4"
  },
  "pycharm": {
   "stem_cell": {
    "cell_type": "raw",
    "source": [],
    "metadata": {
     "collapsed": false
    }
   }
  }
 },
 "nbformat": 4,
 "nbformat_minor": 2
}